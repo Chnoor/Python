{
 "cells": [
  {
   "cell_type": "markdown",
   "id": "9c46cea4",
   "metadata": {},
   "source": [
    "# This script will carry out following steps:¶\n",
    "1. If-statement_1\n",
    "2. If-statement-2\n",
    "3. If-statement-3\n",
    "4. Task 4.7\n"
   ]
  },
  {
   "cell_type": "code",
   "execution_count": 1,
   "id": "8d9ae7f0",
   "metadata": {},
   "outputs": [],
   "source": [
    "# Import libraries\n",
    "\n",
    "import pandas as pd\n",
    "import numpy as np\n",
    "import os"
   ]
  },
  {
   "cell_type": "markdown",
   "id": "1e1c0ec1",
   "metadata": {},
   "source": [
    "## 1. Importing Dataframe"
   ]
  },
  {
   "cell_type": "code",
   "execution_count": 2,
   "id": "68b00ad7",
   "metadata": {},
   "outputs": [],
   "source": [
    "# creating path shortcut:\n",
    "path=r'/Users/parvinrahimi/Desktop/Data/Data Immersion/Achievement 4/TASK 3/06-2023 Instacart Basket Analysis 9.46.07 AM/01 Project Management'"
   ]
  },
  {
   "cell_type": "code",
   "execution_count": 3,
   "id": "2b9ebb83",
   "metadata": {},
   "outputs": [],
   "source": [
    "# importing dataframe\n",
    "df_orders_products_merged = pd.read_pickle(os.path.join(path, 'Prepared Data', 'orders_products_merged.pkl'))"
   ]
  },
  {
   "cell_type": "code",
   "execution_count": 5,
   "id": "81e47137-e0f8-4778-9213-1195354b3682",
   "metadata": {},
   "outputs": [],
   "source": [
    "# creating a smaller subset\n",
    "df = df_orders_products_merged[:1000000]"
   ]
  },
  {
   "cell_type": "code",
   "execution_count": 7,
   "id": "a16fba29-e84b-4bd9-a93e-c4412a5a9344",
   "metadata": {},
   "outputs": [
    {
     "data": {
      "text/plain": [
       "(1000000, 18)"
      ]
     },
     "execution_count": 7,
     "metadata": {},
     "output_type": "execute_result"
    }
   ],
   "source": [
    "df.shape"
   ]
  },
  {
   "cell_type": "code",
   "execution_count": 8,
   "id": "3dd1dfac-0ace-41a0-807d-de5ba08b4366",
   "metadata": {},
   "outputs": [
    {
     "data": {
      "text/html": [
       "<div>\n",
       "<style scoped>\n",
       "    .dataframe tbody tr th:only-of-type {\n",
       "        vertical-align: middle;\n",
       "    }\n",
       "\n",
       "    .dataframe tbody tr th {\n",
       "        vertical-align: top;\n",
       "    }\n",
       "\n",
       "    .dataframe thead th {\n",
       "        text-align: right;\n",
       "    }\n",
       "</style>\n",
       "<table border=\"1\" class=\"dataframe\">\n",
       "  <thead>\n",
       "    <tr style=\"text-align: right;\">\n",
       "      <th></th>\n",
       "      <th>Unnamed: 0_x</th>\n",
       "      <th>Row_Number</th>\n",
       "      <th>order_id</th>\n",
       "      <th>user_id</th>\n",
       "      <th>eval_set</th>\n",
       "      <th>order_number</th>\n",
       "      <th>orders_day_of_week</th>\n",
       "      <th>order_hour_of_day</th>\n",
       "      <th>last_order_in_days</th>\n",
       "      <th>product_id</th>\n",
       "      <th>add_to_cart_order</th>\n",
       "      <th>reordered</th>\n",
       "      <th>Unnamed: 0_y</th>\n",
       "      <th>product_name</th>\n",
       "      <th>aisle_id</th>\n",
       "      <th>department_id</th>\n",
       "      <th>prices</th>\n",
       "      <th>_merge</th>\n",
       "    </tr>\n",
       "  </thead>\n",
       "  <tbody>\n",
       "    <tr>\n",
       "      <th>0</th>\n",
       "      <td>0</td>\n",
       "      <td>0</td>\n",
       "      <td>2539329</td>\n",
       "      <td>1</td>\n",
       "      <td>prior</td>\n",
       "      <td>1</td>\n",
       "      <td>2</td>\n",
       "      <td>8</td>\n",
       "      <td>NaN</td>\n",
       "      <td>196</td>\n",
       "      <td>1</td>\n",
       "      <td>0</td>\n",
       "      <td>195</td>\n",
       "      <td>Soda</td>\n",
       "      <td>77</td>\n",
       "      <td>7</td>\n",
       "      <td>9.0</td>\n",
       "      <td>both</td>\n",
       "    </tr>\n",
       "    <tr>\n",
       "      <th>1</th>\n",
       "      <td>1</td>\n",
       "      <td>1</td>\n",
       "      <td>2398795</td>\n",
       "      <td>1</td>\n",
       "      <td>prior</td>\n",
       "      <td>2</td>\n",
       "      <td>3</td>\n",
       "      <td>7</td>\n",
       "      <td>15.0</td>\n",
       "      <td>196</td>\n",
       "      <td>1</td>\n",
       "      <td>1</td>\n",
       "      <td>195</td>\n",
       "      <td>Soda</td>\n",
       "      <td>77</td>\n",
       "      <td>7</td>\n",
       "      <td>9.0</td>\n",
       "      <td>both</td>\n",
       "    </tr>\n",
       "    <tr>\n",
       "      <th>2</th>\n",
       "      <td>2</td>\n",
       "      <td>2</td>\n",
       "      <td>473747</td>\n",
       "      <td>1</td>\n",
       "      <td>prior</td>\n",
       "      <td>3</td>\n",
       "      <td>3</td>\n",
       "      <td>12</td>\n",
       "      <td>21.0</td>\n",
       "      <td>196</td>\n",
       "      <td>1</td>\n",
       "      <td>1</td>\n",
       "      <td>195</td>\n",
       "      <td>Soda</td>\n",
       "      <td>77</td>\n",
       "      <td>7</td>\n",
       "      <td>9.0</td>\n",
       "      <td>both</td>\n",
       "    </tr>\n",
       "    <tr>\n",
       "      <th>3</th>\n",
       "      <td>3</td>\n",
       "      <td>3</td>\n",
       "      <td>2254736</td>\n",
       "      <td>1</td>\n",
       "      <td>prior</td>\n",
       "      <td>4</td>\n",
       "      <td>4</td>\n",
       "      <td>7</td>\n",
       "      <td>29.0</td>\n",
       "      <td>196</td>\n",
       "      <td>1</td>\n",
       "      <td>1</td>\n",
       "      <td>195</td>\n",
       "      <td>Soda</td>\n",
       "      <td>77</td>\n",
       "      <td>7</td>\n",
       "      <td>9.0</td>\n",
       "      <td>both</td>\n",
       "    </tr>\n",
       "    <tr>\n",
       "      <th>4</th>\n",
       "      <td>4</td>\n",
       "      <td>4</td>\n",
       "      <td>431534</td>\n",
       "      <td>1</td>\n",
       "      <td>prior</td>\n",
       "      <td>5</td>\n",
       "      <td>4</td>\n",
       "      <td>15</td>\n",
       "      <td>28.0</td>\n",
       "      <td>196</td>\n",
       "      <td>1</td>\n",
       "      <td>1</td>\n",
       "      <td>195</td>\n",
       "      <td>Soda</td>\n",
       "      <td>77</td>\n",
       "      <td>7</td>\n",
       "      <td>9.0</td>\n",
       "      <td>both</td>\n",
       "    </tr>\n",
       "  </tbody>\n",
       "</table>\n",
       "</div>"
      ],
      "text/plain": [
       "   Unnamed: 0_x  Row_Number  order_id  user_id eval_set  order_number  \\\n",
       "0             0           0   2539329        1    prior             1   \n",
       "1             1           1   2398795        1    prior             2   \n",
       "2             2           2    473747        1    prior             3   \n",
       "3             3           3   2254736        1    prior             4   \n",
       "4             4           4    431534        1    prior             5   \n",
       "\n",
       "   orders_day_of_week  order_hour_of_day  last_order_in_days  product_id  \\\n",
       "0                   2                  8                 NaN         196   \n",
       "1                   3                  7                15.0         196   \n",
       "2                   3                 12                21.0         196   \n",
       "3                   4                  7                29.0         196   \n",
       "4                   4                 15                28.0         196   \n",
       "\n",
       "   add_to_cart_order  reordered  Unnamed: 0_y product_name  aisle_id  \\\n",
       "0                  1          0           195         Soda        77   \n",
       "1                  1          1           195         Soda        77   \n",
       "2                  1          1           195         Soda        77   \n",
       "3                  1          1           195         Soda        77   \n",
       "4                  1          1           195         Soda        77   \n",
       "\n",
       "   department_id  prices _merge  \n",
       "0              7     9.0   both  \n",
       "1              7     9.0   both  \n",
       "2              7     9.0   both  \n",
       "3              7     9.0   both  \n",
       "4              7     9.0   both  "
      ]
     },
     "execution_count": 8,
     "metadata": {},
     "output_type": "execute_result"
    }
   ],
   "source": [
    "df.head()"
   ]
  },
  {
   "cell_type": "markdown",
   "id": "b5428c6a-4abc-4b7f-b270-8e314e8403a0",
   "metadata": {},
   "source": [
    "## 1. If Statement 1"
   ]
  },
  {
   "cell_type": "code",
   "execution_count": 15,
   "id": "20f919f9-d1b2-46bf-af6e-8707945ff63a",
   "metadata": {},
   "outputs": [],
   "source": [
    "#define a new function\n",
    "\n",
    "def price_label(row):\n",
    "\n",
    "  if row['prices'] <= 5:\n",
    "    return 'Low-range product'\n",
    "  elif (row['prices'] > 5) and (row['prices'] <= 15):\n",
    "    return 'Mid-range product'\n",
    "  elif row['prices'] > 15:\n",
    "    return 'High range'\n",
    "  else: return np.nan"
   ]
  },
  {
   "cell_type": "code",
   "execution_count": 16,
   "id": "eccaa8c8-690a-489e-837f-d3fee18a7660",
   "metadata": {},
   "outputs": [
    {
     "name": "stderr",
     "output_type": "stream",
     "text": [
      "/var/folders/2m/x4ncpd5d6zn4gz7_m6f16nww0000gn/T/ipykernel_4410/2561668094.py:2: SettingWithCopyWarning: \n",
      "A value is trying to be set on a copy of a slice from a DataFrame.\n",
      "Try using .loc[row_indexer,col_indexer] = value instead\n",
      "\n",
      "See the caveats in the documentation: https://pandas.pydata.org/pandas-docs/stable/user_guide/indexing.html#returning-a-view-versus-a-copy\n",
      "  df['price_range'] = df.apply(price_label, axis=1)\n"
     ]
    }
   ],
   "source": [
    "# apply function\n",
    "df['price_range'] = df.apply(price_label, axis=1)"
   ]
  },
  {
   "cell_type": "code",
   "execution_count": 17,
   "id": "63b64ea0-8074-4293-9338-2bb15555d2e1",
   "metadata": {},
   "outputs": [
    {
     "data": {
      "text/plain": [
       "Mid-range product    756450\n",
       "Low-range product    243550\n",
       "Name: price_range, dtype: int64"
      ]
     },
     "execution_count": 17,
     "metadata": {},
     "output_type": "execute_result"
    }
   ],
   "source": [
    "df['price_range'].value_counts(dropna = False)"
   ]
  },
  {
   "cell_type": "code",
   "execution_count": 18,
   "id": "479ab458-04fe-456d-928b-7225896c6a57",
   "metadata": {},
   "outputs": [
    {
     "data": {
      "text/plain": [
       "14.8"
      ]
     },
     "execution_count": 18,
     "metadata": {},
     "output_type": "execute_result"
    }
   ],
   "source": [
    "# most expensive product within the subset\n",
    "df['prices'].max()"
   ]
  },
  {
   "cell_type": "markdown",
   "id": "d36da205-e203-4b1a-99f3-4f1e7cacc014",
   "metadata": {},
   "source": [
    "## 2. If Statement 2"
   ]
  },
  {
   "cell_type": "code",
   "execution_count": 19,
   "id": "24dee042-13a1-4ac3-9141-2f2a6453731a",
   "metadata": {},
   "outputs": [
    {
     "name": "stderr",
     "output_type": "stream",
     "text": [
      "/var/folders/2m/x4ncpd5d6zn4gz7_m6f16nww0000gn/T/ipykernel_4410/3465115858.py:2: SettingWithCopyWarning: \n",
      "A value is trying to be set on a copy of a slice from a DataFrame.\n",
      "Try using .loc[row_indexer,col_indexer] = value instead\n",
      "\n",
      "See the caveats in the documentation: https://pandas.pydata.org/pandas-docs/stable/user_guide/indexing.html#returning-a-view-versus-a-copy\n",
      "  df.loc[df['prices'] > 15, 'price_range_loc'] = 'High-range product'\n"
     ]
    }
   ],
   "source": [
    "# if statement using loc()\n",
    "df.loc[df['prices'] > 15, 'price_range_loc'] = 'High-range product'"
   ]
  },
  {
   "cell_type": "code",
   "execution_count": 20,
   "id": "d77df793-7562-4916-a77e-c0ff28d3a33a",
   "metadata": {},
   "outputs": [],
   "source": [
    "df.loc[(df['prices'] <= 15) & (df['prices'] > 5), 'price_range_loc'] = 'Mid-range product'"
   ]
  },
  {
   "cell_type": "code",
   "execution_count": 21,
   "id": "559a2355-4b1f-4800-8563-1dfdbb23e074",
   "metadata": {},
   "outputs": [],
   "source": [
    "df.loc[df['prices'] <= 5, 'price_range_loc'] = 'Low-range product'"
   ]
  },
  {
   "cell_type": "code",
   "execution_count": 22,
   "id": "71a1c713-5c1c-4ada-866b-dfe6bbeb4d5d",
   "metadata": {},
   "outputs": [
    {
     "data": {
      "text/plain": [
       "Mid-range product    756450\n",
       "Low-range product    243550\n",
       "Name: price_range, dtype: int64"
      ]
     },
     "execution_count": 22,
     "metadata": {},
     "output_type": "execute_result"
    }
   ],
   "source": [
    "df['price_range'].value_counts(dropna = False)"
   ]
  },
  {
   "cell_type": "code",
   "execution_count": 23,
   "id": "eb1ff329-3170-4ed1-87ed-f91635b0c599",
   "metadata": {},
   "outputs": [],
   "source": [
    "# running the function on the entire dataframe\n",
    "df_orders_products_merged.loc[df_orders_products_merged['prices'] > 15, 'price_range_loc'] = 'High_range product'"
   ]
  },
  {
   "cell_type": "code",
   "execution_count": 25,
   "id": "401f0096-fba2-4f3c-8145-00426dbab187",
   "metadata": {},
   "outputs": [],
   "source": [
    "df_orders_products_merged.loc[(df_orders_products_merged['prices'] <= 15) & (df_orders_products_merged['prices'] > 5), 'price_range_loc'] = 'Mid_range product'"
   ]
  },
  {
   "cell_type": "code",
   "execution_count": 27,
   "id": "1c3bdb50-065e-4ba6-a89b-f21eb1697cd6",
   "metadata": {},
   "outputs": [],
   "source": [
    "df_orders_products_merged.loc[df_orders_products_merged['prices'] <= 5, 'price_range_loc'] = 'Low_range Product'"
   ]
  },
  {
   "cell_type": "code",
   "execution_count": 28,
   "id": "0c1e297e-d0a5-40df-a81a-8388e4e42266",
   "metadata": {},
   "outputs": [
    {
     "data": {
      "text/plain": [
       "Mid_range product     21860860\n",
       "Low_range Product     10126321\n",
       "High_range product      417678\n",
       "Name: price_range_loc, dtype: int64"
      ]
     },
     "execution_count": 28,
     "metadata": {},
     "output_type": "execute_result"
    }
   ],
   "source": [
    "df_orders_products_merged['price_range_loc'].value_counts(dropna=False)"
   ]
  },
  {
   "cell_type": "code",
   "execution_count": 29,
   "id": "6251925b-53a9-4292-b5b0-f16a3d072ef2",
   "metadata": {},
   "outputs": [
    {
     "data": {
      "text/html": [
       "<div>\n",
       "<style scoped>\n",
       "    .dataframe tbody tr th:only-of-type {\n",
       "        vertical-align: middle;\n",
       "    }\n",
       "\n",
       "    .dataframe tbody tr th {\n",
       "        vertical-align: top;\n",
       "    }\n",
       "\n",
       "    .dataframe thead th {\n",
       "        text-align: right;\n",
       "    }\n",
       "</style>\n",
       "<table border=\"1\" class=\"dataframe\">\n",
       "  <thead>\n",
       "    <tr style=\"text-align: right;\">\n",
       "      <th></th>\n",
       "      <th>Unnamed: 0_x</th>\n",
       "      <th>Row_Number</th>\n",
       "      <th>order_id</th>\n",
       "      <th>user_id</th>\n",
       "      <th>eval_set</th>\n",
       "      <th>order_number</th>\n",
       "      <th>orders_day_of_week</th>\n",
       "      <th>order_hour_of_day</th>\n",
       "      <th>last_order_in_days</th>\n",
       "      <th>product_id</th>\n",
       "      <th>add_to_cart_order</th>\n",
       "      <th>reordered</th>\n",
       "      <th>Unnamed: 0_y</th>\n",
       "      <th>product_name</th>\n",
       "      <th>aisle_id</th>\n",
       "      <th>department_id</th>\n",
       "      <th>prices</th>\n",
       "      <th>_merge</th>\n",
       "      <th>price_range_loc</th>\n",
       "    </tr>\n",
       "  </thead>\n",
       "  <tbody>\n",
       "    <tr>\n",
       "      <th>0</th>\n",
       "      <td>0</td>\n",
       "      <td>0</td>\n",
       "      <td>2539329</td>\n",
       "      <td>1</td>\n",
       "      <td>prior</td>\n",
       "      <td>1</td>\n",
       "      <td>2</td>\n",
       "      <td>8</td>\n",
       "      <td>NaN</td>\n",
       "      <td>196</td>\n",
       "      <td>1</td>\n",
       "      <td>0</td>\n",
       "      <td>195</td>\n",
       "      <td>Soda</td>\n",
       "      <td>77</td>\n",
       "      <td>7</td>\n",
       "      <td>9.0</td>\n",
       "      <td>both</td>\n",
       "      <td>Mid_range product</td>\n",
       "    </tr>\n",
       "    <tr>\n",
       "      <th>1</th>\n",
       "      <td>1</td>\n",
       "      <td>1</td>\n",
       "      <td>2398795</td>\n",
       "      <td>1</td>\n",
       "      <td>prior</td>\n",
       "      <td>2</td>\n",
       "      <td>3</td>\n",
       "      <td>7</td>\n",
       "      <td>15.0</td>\n",
       "      <td>196</td>\n",
       "      <td>1</td>\n",
       "      <td>1</td>\n",
       "      <td>195</td>\n",
       "      <td>Soda</td>\n",
       "      <td>77</td>\n",
       "      <td>7</td>\n",
       "      <td>9.0</td>\n",
       "      <td>both</td>\n",
       "      <td>Mid_range product</td>\n",
       "    </tr>\n",
       "    <tr>\n",
       "      <th>2</th>\n",
       "      <td>2</td>\n",
       "      <td>2</td>\n",
       "      <td>473747</td>\n",
       "      <td>1</td>\n",
       "      <td>prior</td>\n",
       "      <td>3</td>\n",
       "      <td>3</td>\n",
       "      <td>12</td>\n",
       "      <td>21.0</td>\n",
       "      <td>196</td>\n",
       "      <td>1</td>\n",
       "      <td>1</td>\n",
       "      <td>195</td>\n",
       "      <td>Soda</td>\n",
       "      <td>77</td>\n",
       "      <td>7</td>\n",
       "      <td>9.0</td>\n",
       "      <td>both</td>\n",
       "      <td>Mid_range product</td>\n",
       "    </tr>\n",
       "    <tr>\n",
       "      <th>3</th>\n",
       "      <td>3</td>\n",
       "      <td>3</td>\n",
       "      <td>2254736</td>\n",
       "      <td>1</td>\n",
       "      <td>prior</td>\n",
       "      <td>4</td>\n",
       "      <td>4</td>\n",
       "      <td>7</td>\n",
       "      <td>29.0</td>\n",
       "      <td>196</td>\n",
       "      <td>1</td>\n",
       "      <td>1</td>\n",
       "      <td>195</td>\n",
       "      <td>Soda</td>\n",
       "      <td>77</td>\n",
       "      <td>7</td>\n",
       "      <td>9.0</td>\n",
       "      <td>both</td>\n",
       "      <td>Mid_range product</td>\n",
       "    </tr>\n",
       "    <tr>\n",
       "      <th>4</th>\n",
       "      <td>4</td>\n",
       "      <td>4</td>\n",
       "      <td>431534</td>\n",
       "      <td>1</td>\n",
       "      <td>prior</td>\n",
       "      <td>5</td>\n",
       "      <td>4</td>\n",
       "      <td>15</td>\n",
       "      <td>28.0</td>\n",
       "      <td>196</td>\n",
       "      <td>1</td>\n",
       "      <td>1</td>\n",
       "      <td>195</td>\n",
       "      <td>Soda</td>\n",
       "      <td>77</td>\n",
       "      <td>7</td>\n",
       "      <td>9.0</td>\n",
       "      <td>both</td>\n",
       "      <td>Mid_range product</td>\n",
       "    </tr>\n",
       "  </tbody>\n",
       "</table>\n",
       "</div>"
      ],
      "text/plain": [
       "   Unnamed: 0_x  Row_Number  order_id  user_id eval_set  order_number  \\\n",
       "0             0           0   2539329        1    prior             1   \n",
       "1             1           1   2398795        1    prior             2   \n",
       "2             2           2    473747        1    prior             3   \n",
       "3             3           3   2254736        1    prior             4   \n",
       "4             4           4    431534        1    prior             5   \n",
       "\n",
       "   orders_day_of_week  order_hour_of_day  last_order_in_days  product_id  \\\n",
       "0                   2                  8                 NaN         196   \n",
       "1                   3                  7                15.0         196   \n",
       "2                   3                 12                21.0         196   \n",
       "3                   4                  7                29.0         196   \n",
       "4                   4                 15                28.0         196   \n",
       "\n",
       "   add_to_cart_order  reordered  Unnamed: 0_y product_name  aisle_id  \\\n",
       "0                  1          0           195         Soda        77   \n",
       "1                  1          1           195         Soda        77   \n",
       "2                  1          1           195         Soda        77   \n",
       "3                  1          1           195         Soda        77   \n",
       "4                  1          1           195         Soda        77   \n",
       "\n",
       "   department_id  prices _merge    price_range_loc  \n",
       "0              7     9.0   both  Mid_range product  \n",
       "1              7     9.0   both  Mid_range product  \n",
       "2              7     9.0   both  Mid_range product  \n",
       "3              7     9.0   both  Mid_range product  \n",
       "4              7     9.0   both  Mid_range product  "
      ]
     },
     "execution_count": 29,
     "metadata": {},
     "output_type": "execute_result"
    }
   ],
   "source": [
    "df_orders_products_merged.head()"
   ]
  },
  {
   "cell_type": "markdown",
   "id": "9c3449ac-5685-4144-931c-90fd27edde12",
   "metadata": {},
   "source": [
    "## 3. If Statement 3"
   ]
  },
  {
   "cell_type": "code",
   "execution_count": 31,
   "id": "7f965393-ad15-4a48-953c-588466f882ac",
   "metadata": {},
   "outputs": [
    {
     "data": {
      "text/plain": [
       "0    6204182\n",
       "1    5660230\n",
       "6    4496490\n",
       "2    4213830\n",
       "5    4205791\n",
       "3    3840534\n",
       "4    3783802\n",
       "Name: orders_day_of_week, dtype: int64"
      ]
     },
     "execution_count": 31,
     "metadata": {},
     "output_type": "execute_result"
    }
   ],
   "source": [
    "# which day most orders take place?\n",
    "df_orders_products_merged['orders_day_of_week'].value_counts(dropna=False)"
   ]
  },
  {
   "cell_type": "code",
   "execution_count": 32,
   "id": "cf8dee1b-8d84-4df1-a92f-c89aa6194a6e",
   "metadata": {},
   "outputs": [],
   "source": [
    "# create a new column 'busiest day' and define it using for-loops\n",
    "result = []\n",
    "\n",
    "for value in df_orders_products_merged[\"orders_day_of_week\"]:\n",
    "  if value == 0:\n",
    "    result.append(\"Busiest day\")\n",
    "  elif value == 4:\n",
    "    result.append(\"Least busy\")\n",
    "  else:\n",
    "    result.append(\"Regularly busy\")"
   ]
  },
  {
   "cell_type": "code",
   "execution_count": 34,
   "id": "45b3033b-a2d1-49af-8ff3-0677f728d127",
   "metadata": {},
   "outputs": [],
   "source": [
    "# Add this column to dataframe\n",
    "df_orders_products_merged['busiest_day'] = result"
   ]
  },
  {
   "cell_type": "code",
   "execution_count": 35,
   "id": "11dec70b-b39d-4c18-892e-abf69285a946",
   "metadata": {},
   "outputs": [
    {
     "data": {
      "text/plain": [
       "Regularly busy    22416875\n",
       "Busiest day        6204182\n",
       "Least busy         3783802\n",
       "Name: busiest_day, dtype: int64"
      ]
     },
     "execution_count": 35,
     "metadata": {},
     "output_type": "execute_result"
    }
   ],
   "source": [
    "df_orders_products_merged['busiest_day'].value_counts(dropna=False)"
   ]
  },
  {
   "cell_type": "markdown",
   "id": "2b042255-283f-4e89-abaa-496b5cd7e9fa",
   "metadata": {},
   "source": [
    "## 4. Task 4.7"
   ]
  },
  {
   "cell_type": "code",
   "execution_count": 42,
   "id": "f36d6646-4419-4187-899c-fed642923e9b",
   "metadata": {},
   "outputs": [],
   "source": [
    "# Q.2: create a new column for busiest days (plural)\n",
    "result_2 = []\n",
    "for value in df_orders_products_merged['orders_day_of_week']:\n",
    "    if value == 0 or value == 1:\n",
    "        result_2.append('Busiest days')\n",
    "    elif value ==3 or value == 4:\n",
    "        result_2.append('Least busiest days')\n",
    "    else:\n",
    "        result_2.append('Regularly busy')"
   ]
  },
  {
   "cell_type": "code",
   "execution_count": 43,
   "id": "179ec812-3144-4648-a4cc-ab68a2e2db87",
   "metadata": {},
   "outputs": [],
   "source": [
    "# add the new column as 'Busiest_days' to the dataframe\n",
    "df_orders_products_merged['Busiest_days'] = result_2"
   ]
  },
  {
   "cell_type": "code",
   "execution_count": 44,
   "id": "c02617e6-d312-44cf-972a-916b53823a1c",
   "metadata": {},
   "outputs": [
    {
     "data": {
      "text/plain": [
       "Regularly busy        12916111\n",
       "Busiest days          11864412\n",
       "Least busiest days     7624336\n",
       "Name: Busiest_days, dtype: int64"
      ]
     },
     "execution_count": 44,
     "metadata": {},
     "output_type": "execute_result"
    }
   ],
   "source": [
    "# Q3. checking the values of the new column\n",
    "df_orders_products_merged['Busiest_days'].value_counts(dropna=False)"
   ]
  },
  {
   "cell_type": "markdown",
   "id": "03539d8b-eee9-4b37-bfd2-59b03c018791",
   "metadata": {
    "tags": []
   },
   "source": [
    "### the values of the 'busiest days' and 'least busiest days' are doubled and the value of'regularly busy' has almost halved. "
   ]
  },
  {
   "cell_type": "code",
   "execution_count": 46,
   "id": "269fbe89-963c-4836-b19e-a7e5799ce0f0",
   "metadata": {},
   "outputs": [
    {
     "data": {
      "text/plain": [
       "10    2761760\n",
       "11    2736140\n",
       "14    2689136\n",
       "15    2662144\n",
       "13    2660954\n",
       "12    2618532\n",
       "16    2535202\n",
       "9     2454203\n",
       "17    2087654\n",
       "8     1718118\n",
       "18    1636502\n",
       "19    1258305\n",
       "20     976156\n",
       "7      891054\n",
       "21     795637\n",
       "22     634225\n",
       "23     402316\n",
       "6      290493\n",
       "0      218769\n",
       "1      115700\n",
       "5       87961\n",
       "2       69375\n",
       "4       53242\n",
       "3       51281\n",
       "Name: order_hour_of_day, dtype: int64"
      ]
     },
     "execution_count": 46,
     "metadata": {},
     "output_type": "execute_result"
    }
   ],
   "source": [
    "# identifying busiest hour of day\n",
    "df_orders_products_merged['order_hour_of_day'].value_counts(dropna = False)"
   ]
  },
  {
   "cell_type": "markdown",
   "id": "96e2f281-dc3d-4b3f-aeec-382525ac3e5b",
   "metadata": {},
   "source": [
    "### I decided to divde the total orders in a day into 3 categories: total orders over and equal to 2000000, less than and equal to 1000000 , and everything btw 1000000 and 2000000"
   ]
  },
  {
   "cell_type": "code",
   "execution_count": 65,
   "id": "224458e9-4bd6-40a2-92ae-0e4d05c59845",
   "metadata": {},
   "outputs": [],
   "source": [
    "# Q.4 create new column to assign busiest hour of the day\n",
    "result_3 = []\n",
    "for value in df_orders_products_merged['order_hour_of_day']:\n",
    "  if value in [9,10,11,12,13,14,15,16,17]: \n",
    "    result_3.append('Most_orders')\n",
    "  elif value in [8,18,19]: \n",
    "    result_3.append('Average_orders')\n",
    "  else:\n",
    "    result_3.append('Fewest_orders')"
   ]
  },
  {
   "cell_type": "code",
   "execution_count": 66,
   "id": "2a861861-7fe8-472d-85c3-7a8f64b2d1d5",
   "metadata": {},
   "outputs": [],
   "source": [
    "# add column as 'busiest_period_of_day'\n",
    "df_orders_products_merged['busiest_period_of_day'] = result_3"
   ]
  },
  {
   "cell_type": "code",
   "execution_count": 67,
   "id": "3c2d0c64-9c54-4d0b-aaaa-9d98f5ba67a4",
   "metadata": {},
   "outputs": [
    {
     "data": {
      "text/plain": [
       "Most_orders       23205725\n",
       "Average_orders     4612925\n",
       "Fewest_orders      4586209\n",
       "Name: busiest_period_of_day, dtype: int64"
      ]
     },
     "execution_count": 67,
     "metadata": {},
     "output_type": "execute_result"
    }
   ],
   "source": [
    "# Q5. checking the frequencies of the new column\n",
    "df_orders_products_merged['busiest_period_of_day'].value_counts(dropna =False)"
   ]
  },
  {
   "cell_type": "code",
   "execution_count": 78,
   "id": "14fafe6d-1ba0-41d8-a207-ebe6cd502cd3",
   "metadata": {},
   "outputs": [],
   "source": [
    "# saving dataframe as Pickle\n",
    "df_orders_products_merged.to_pickle(os.path.join(path, 'Prepared Data', 'orders_products_merged_last.pkl'))"
   ]
  },
  {
   "cell_type": "code",
   "execution_count": null,
   "id": "48c0d5b5-6a58-4146-a622-cac27571d4ed",
   "metadata": {},
   "outputs": [],
   "source": []
  }
 ],
 "metadata": {
  "kernelspec": {
   "display_name": "Python 3 (ipykernel)",
   "language": "python",
   "name": "python3"
  },
  "language_info": {
   "codemirror_mode": {
    "name": "ipython",
    "version": 3
   },
   "file_extension": ".py",
   "mimetype": "text/x-python",
   "name": "python",
   "nbconvert_exporter": "python",
   "pygments_lexer": "ipython3",
   "version": "3.10.9"
  }
 },
 "nbformat": 4,
 "nbformat_minor": 5
}
