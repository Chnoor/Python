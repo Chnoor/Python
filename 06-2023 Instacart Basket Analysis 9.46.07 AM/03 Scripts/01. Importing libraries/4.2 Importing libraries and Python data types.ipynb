{
 "cells": [
  {
   "cell_type": "markdown",
   "id": "daf36812",
   "metadata": {},
   "source": [
    "# 01. Importing libraries"
   ]
  },
  {
   "cell_type": "code",
   "execution_count": 1,
   "id": "3c83010d",
   "metadata": {},
   "outputs": [],
   "source": [
    "# import libraries\n",
    "import pandas as pd\n",
    "import numpy as np\n",
    "import os"
   ]
  },
  {
   "cell_type": "markdown",
   "id": "a414c188",
   "metadata": {},
   "source": [
    "# 02. Lesson 4.2: data types"
   ]
  },
  {
   "cell_type": "code",
   "execution_count": 3,
   "id": "aacbdd1c",
   "metadata": {},
   "outputs": [],
   "source": [
    "X = 2"
   ]
  },
  {
   "cell_type": "code",
   "execution_count": 4,
   "id": "e0494549",
   "metadata": {},
   "outputs": [
    {
     "data": {
      "text/plain": [
       "2"
      ]
     },
     "execution_count": 4,
     "metadata": {},
     "output_type": "execute_result"
    }
   ],
   "source": [
    "X"
   ]
  },
  {
   "cell_type": "code",
   "execution_count": 10,
   "id": "31586cd3",
   "metadata": {},
   "outputs": [
    {
     "name": "stdout",
     "output_type": "stream",
     "text": [
      "2\n"
     ]
    }
   ],
   "source": [
    "print(X)"
   ]
  },
  {
   "cell_type": "code",
   "execution_count": 11,
   "id": "adc76b0e",
   "metadata": {},
   "outputs": [
    {
     "data": {
      "text/plain": [
       "int"
      ]
     },
     "execution_count": 11,
     "metadata": {},
     "output_type": "execute_result"
    }
   ],
   "source": [
    "type(X)"
   ]
  },
  {
   "cell_type": "code",
   "execution_count": 12,
   "id": "fdb6e926",
   "metadata": {},
   "outputs": [],
   "source": [
    "y = 5.678"
   ]
  },
  {
   "cell_type": "code",
   "execution_count": 13,
   "id": "bc8b4981",
   "metadata": {},
   "outputs": [
    {
     "data": {
      "text/plain": [
       "float"
      ]
     },
     "execution_count": 13,
     "metadata": {},
     "output_type": "execute_result"
    }
   ],
   "source": [
    "type(y)"
   ]
  },
  {
   "cell_type": "code",
   "execution_count": 14,
   "id": "ff1d2a39",
   "metadata": {},
   "outputs": [],
   "source": [
    "z='brazil'"
   ]
  },
  {
   "cell_type": "code",
   "execution_count": 15,
   "id": "c070dc02",
   "metadata": {},
   "outputs": [
    {
     "data": {
      "text/plain": [
       "str"
      ]
     },
     "execution_count": 15,
     "metadata": {},
     "output_type": "execute_result"
    }
   ],
   "source": [
    "type (z)"
   ]
  },
  {
   "cell_type": "code",
   "execution_count": 19,
   "id": "aa373372",
   "metadata": {},
   "outputs": [
    {
     "name": "stdout",
     "output_type": "stream",
     "text": [
      "brazil\n"
     ]
    }
   ],
   "source": [
    "print (\"brazil\")"
   ]
  },
  {
   "cell_type": "code",
   "execution_count": 21,
   "id": "9493959e",
   "metadata": {},
   "outputs": [
    {
     "data": {
      "text/plain": [
       "6"
      ]
     },
     "execution_count": 21,
     "metadata": {},
     "output_type": "execute_result"
    }
   ],
   "source": [
    "X+4"
   ]
  },
  {
   "cell_type": "code",
   "execution_count": 22,
   "id": "faf1b1dd",
   "metadata": {},
   "outputs": [
    {
     "name": "stdout",
     "output_type": "stream",
     "text": [
      "6\n"
     ]
    }
   ],
   "source": [
    "X=X+4\n",
    "print(X)"
   ]
  },
  {
   "cell_type": "code",
   "execution_count": 23,
   "id": "06717513",
   "metadata": {},
   "outputs": [],
   "source": [
    "a= 'Hello, '"
   ]
  },
  {
   "cell_type": "code",
   "execution_count": 24,
   "id": "d100c2dc",
   "metadata": {},
   "outputs": [],
   "source": [
    "b= ' Marley'"
   ]
  },
  {
   "cell_type": "code",
   "execution_count": 27,
   "id": "37767eb1",
   "metadata": {},
   "outputs": [
    {
     "data": {
      "text/plain": [
       "'Hello,Marley'"
      ]
     },
     "execution_count": 27,
     "metadata": {},
     "output_type": "execute_result"
    }
   ],
   "source": [
    "a+b"
   ]
  },
  {
   "cell_type": "code",
   "execution_count": 28,
   "id": "81b61ebe",
   "metadata": {},
   "outputs": [
    {
     "data": {
      "text/plain": [
       "'Hello,Marley'"
      ]
     },
     "execution_count": 28,
     "metadata": {},
     "output_type": "execute_result"
    }
   ],
   "source": [
    "a+b"
   ]
  },
  {
   "cell_type": "code",
   "execution_count": 29,
   "id": "d35bed72",
   "metadata": {},
   "outputs": [
    {
     "data": {
      "text/plain": [
       "'Hello,Marley'"
      ]
     },
     "execution_count": 29,
     "metadata": {},
     "output_type": "execute_result"
    }
   ],
   "source": [
    "a+b"
   ]
  },
  {
   "cell_type": "code",
   "execution_count": 30,
   "id": "dff993ce",
   "metadata": {},
   "outputs": [
    {
     "data": {
      "text/plain": [
       "'Hello,Marley'"
      ]
     },
     "execution_count": 30,
     "metadata": {},
     "output_type": "execute_result"
    }
   ],
   "source": [
    "a+b"
   ]
  },
  {
   "cell_type": "code",
   "execution_count": 31,
   "id": "6d0bceaa",
   "metadata": {},
   "outputs": [],
   "source": [
    "a= 'Hello, '"
   ]
  },
  {
   "cell_type": "code",
   "execution_count": 32,
   "id": "9f5f8cb4",
   "metadata": {},
   "outputs": [],
   "source": [
    "b= ' Marley'"
   ]
  },
  {
   "cell_type": "code",
   "execution_count": 33,
   "id": "d820dbbb",
   "metadata": {},
   "outputs": [
    {
     "data": {
      "text/plain": [
       "'Hello,  Marley'"
      ]
     },
     "execution_count": 33,
     "metadata": {},
     "output_type": "execute_result"
    }
   ],
   "source": [
    "a+b"
   ]
  },
  {
   "cell_type": "code",
   "execution_count": 34,
   "id": "6cdae2c1",
   "metadata": {},
   "outputs": [],
   "source": [
    "n='potato'"
   ]
  },
  {
   "cell_type": "code",
   "execution_count": 35,
   "id": "5b533081",
   "metadata": {},
   "outputs": [
    {
     "data": {
      "text/plain": [
       "'potatopotatopotatopotatopotatopotatopotatopotatopotatopotatopotatopotato'"
      ]
     },
     "execution_count": 35,
     "metadata": {},
     "output_type": "execute_result"
    }
   ],
   "source": [
    "n*12"
   ]
  },
  {
   "cell_type": "code",
   "execution_count": 37,
   "id": "b3bbddb4",
   "metadata": {},
   "outputs": [
    {
     "data": {
      "text/plain": [
       "False"
      ]
     },
     "execution_count": 37,
     "metadata": {},
     "output_type": "execute_result"
    }
   ],
   "source": [
    "X==y"
   ]
  },
  {
   "cell_type": "code",
   "execution_count": 38,
   "id": "38490c37",
   "metadata": {},
   "outputs": [
    {
     "data": {
      "text/plain": [
       "bool"
      ]
     },
     "execution_count": 38,
     "metadata": {},
     "output_type": "execute_result"
    }
   ],
   "source": [
    "type(X==y)"
   ]
  },
  {
   "cell_type": "markdown",
   "id": "614e65c7",
   "metadata": {},
   "source": [
    "# 03. Assignment 4.2"
   ]
  },
  {
   "cell_type": "code",
   "execution_count": 3,
   "id": "9c0c58e8",
   "metadata": {},
   "outputs": [],
   "source": [
    "# Step 7: 3 different ways of reaching a result of 100\n",
    "a=75\n",
    "b=25"
   ]
  },
  {
   "cell_type": "code",
   "execution_count": 4,
   "id": "cf192ff8",
   "metadata": {},
   "outputs": [
    {
     "data": {
      "text/plain": [
       "100"
      ]
     },
     "execution_count": 4,
     "metadata": {},
     "output_type": "execute_result"
    }
   ],
   "source": [
    "a+b"
   ]
  },
  {
   "cell_type": "code",
   "execution_count": 5,
   "id": "f55559a0",
   "metadata": {},
   "outputs": [],
   "source": [
    "c=125-b"
   ]
  },
  {
   "cell_type": "code",
   "execution_count": 6,
   "id": "d7dbb1c2",
   "metadata": {},
   "outputs": [
    {
     "name": "stdout",
     "output_type": "stream",
     "text": [
      "100\n"
     ]
    }
   ],
   "source": [
    "print(c)"
   ]
  },
  {
   "cell_type": "code",
   "execution_count": 7,
   "id": "60fea03d",
   "metadata": {},
   "outputs": [],
   "source": [
    "a=c+0"
   ]
  },
  {
   "cell_type": "code",
   "execution_count": 8,
   "id": "ae742619",
   "metadata": {},
   "outputs": [
    {
     "name": "stdout",
     "output_type": "stream",
     "text": [
      "100\n"
     ]
    }
   ],
   "source": [
    "print(a)"
   ]
  },
  {
   "cell_type": "code",
   "execution_count": 9,
   "id": "5cf90087",
   "metadata": {},
   "outputs": [],
   "source": [
    "# step 8: dividing 2 floating-point variables\n",
    "d=2.876\n",
    "e=9.3"
   ]
  },
  {
   "cell_type": "code",
   "execution_count": 10,
   "id": "a5dfbc73",
   "metadata": {},
   "outputs": [
    {
     "data": {
      "text/plain": [
       "0.30924731182795695"
      ]
     },
     "execution_count": 10,
     "metadata": {},
     "output_type": "execute_result"
    }
   ],
   "source": [
    "d/e"
   ]
  },
  {
   "cell_type": "code",
   "execution_count": 11,
   "id": "4d1d138e",
   "metadata": {},
   "outputs": [],
   "source": [
    "# step 9: constructing a short word\n",
    "f='life'\n",
    "g='saver'"
   ]
  },
  {
   "cell_type": "code",
   "execution_count": 12,
   "id": "1a0e4c26",
   "metadata": {},
   "outputs": [
    {
     "data": {
      "text/plain": [
       "'lifesaver'"
      ]
     },
     "execution_count": 12,
     "metadata": {},
     "output_type": "execute_result"
    }
   ],
   "source": [
    "f+g"
   ]
  },
  {
   "cell_type": "code",
   "execution_count": 17,
   "id": "cc75512a",
   "metadata": {},
   "outputs": [],
   "source": [
    "# step 10: constructing 2 short sentences\n",
    "#No. 1:\n",
    "h='Python is '\n",
    "i='fun.'"
   ]
  },
  {
   "cell_type": "code",
   "execution_count": 18,
   "id": "e7842e45",
   "metadata": {},
   "outputs": [
    {
     "data": {
      "text/plain": [
       "'Python is fun.'"
      ]
     },
     "execution_count": 18,
     "metadata": {},
     "output_type": "execute_result"
    }
   ],
   "source": [
    "h+i"
   ]
  },
  {
   "cell_type": "code",
   "execution_count": 20,
   "id": "1e6faf2d",
   "metadata": {},
   "outputs": [],
   "source": [
    "#No.2:\n",
    "j='It is '\n",
    "k='sunny.'"
   ]
  },
  {
   "cell_type": "code",
   "execution_count": 21,
   "id": "a15222d8",
   "metadata": {},
   "outputs": [
    {
     "data": {
      "text/plain": [
       "'It is sunny.'"
      ]
     },
     "execution_count": 21,
     "metadata": {},
     "output_type": "execute_result"
    }
   ],
   "source": [
    "j+k"
   ]
  },
  {
   "cell_type": "code",
   "execution_count": 22,
   "id": "c5f5bb4c",
   "metadata": {},
   "outputs": [],
   "source": [
    "#bonus task"
   ]
  },
  {
   "cell_type": "code",
   "execution_count": 23,
   "id": "083ae296",
   "metadata": {},
   "outputs": [],
   "source": [
    "l=f+g"
   ]
  },
  {
   "cell_type": "code",
   "execution_count": 24,
   "id": "a59e8cc5",
   "metadata": {},
   "outputs": [
    {
     "data": {
      "text/plain": [
       "'lifesaverlifesaverlifesaverlifesaverlifesaverlifesaverlifesaverlifesaverlifesaverlifesaverlifesaverlifesaverlifesaverlifesaverlifesaverlifesaverlifesaverlifesaverlifesaverlifesaverlifesaverlifesaverlifesaverlifesaverlifesaverlifesaverlifesaverlifesaverlifesaverlifesaverlifesaverlifesaverlifesaverlifesaverlifesaverlifesaverlifesaverlifesaverlifesaverlifesaverlifesaverlifesaverlifesaverlifesaverlifesaverlifesaverlifesaverlifesaverlifesaverlifesaverlifesaverlifesaverlifesaverlifesaverlifesaverlifesaverlifesaverlifesaverlifesaverlifesaverlifesaverlifesaverlifesaverlifesaverlifesaverlifesaverlifesaverlifesaverlifesaverlifesaverlifesaverlifesaverlifesaverlifesaverlifesaverlifesaverlifesaverlifesaverlifesaverlifesaverlifesaverlifesaverlifesaverlifesaverlifesaverlifesaverlifesaverlifesaverlifesaverlifesaverlifesaverlifesaverlifesaverlifesaverlifesaverlifesaverlifesaverlifesaverlifesaverlifesaver'"
      ]
     },
     "execution_count": 24,
     "metadata": {},
     "output_type": "execute_result"
    }
   ],
   "source": [
    "l*100"
   ]
  },
  {
   "cell_type": "code",
   "execution_count": null,
   "id": "50de0204",
   "metadata": {},
   "outputs": [],
   "source": []
  }
 ],
 "metadata": {
  "kernelspec": {
   "display_name": "Python 3 (ipykernel)",
   "language": "python",
   "name": "python3"
  },
  "language_info": {
   "codemirror_mode": {
    "name": "ipython",
    "version": 3
   },
   "file_extension": ".py",
   "mimetype": "text/x-python",
   "name": "python",
   "nbconvert_exporter": "python",
   "pygments_lexer": "ipython3",
   "version": "3.10.9"
  }
 },
 "nbformat": 4,
 "nbformat_minor": 5
}
